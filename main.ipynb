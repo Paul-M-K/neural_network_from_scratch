{
 "cells": [
  {
   "cell_type": "markdown",
   "metadata": {},
   "source": [
    "# Import libraries"
   ]
  },
  {
   "cell_type": "code",
   "execution_count": 13,
   "metadata": {},
   "outputs": [],
   "source": [
    "import numpy as np\n",
    "import pandas as pd\n",
    "import matplotlib.pyplot as plt"
   ]
  },
  {
   "cell_type": "code",
   "execution_count": 14,
   "metadata": {},
   "outputs": [
    {
     "data": {
      "text/html": [
       "<div>\n",
       "<style scoped>\n",
       "    .dataframe tbody tr th:only-of-type {\n",
       "        vertical-align: middle;\n",
       "    }\n",
       "\n",
       "    .dataframe tbody tr th {\n",
       "        vertical-align: top;\n",
       "    }\n",
       "\n",
       "    .dataframe thead th {\n",
       "        text-align: right;\n",
       "    }\n",
       "</style>\n",
       "<table border=\"1\" class=\"dataframe\">\n",
       "  <thead>\n",
       "    <tr style=\"text-align: right;\">\n",
       "      <th></th>\n",
       "      <th>label</th>\n",
       "      <th>pixel0</th>\n",
       "      <th>pixel1</th>\n",
       "      <th>pixel2</th>\n",
       "      <th>pixel3</th>\n",
       "      <th>pixel4</th>\n",
       "      <th>pixel5</th>\n",
       "      <th>pixel6</th>\n",
       "      <th>pixel7</th>\n",
       "      <th>pixel8</th>\n",
       "      <th>...</th>\n",
       "      <th>pixel774</th>\n",
       "      <th>pixel775</th>\n",
       "      <th>pixel776</th>\n",
       "      <th>pixel777</th>\n",
       "      <th>pixel778</th>\n",
       "      <th>pixel779</th>\n",
       "      <th>pixel780</th>\n",
       "      <th>pixel781</th>\n",
       "      <th>pixel782</th>\n",
       "      <th>pixel783</th>\n",
       "    </tr>\n",
       "  </thead>\n",
       "  <tbody>\n",
       "    <tr>\n",
       "      <th>0</th>\n",
       "      <td>1</td>\n",
       "      <td>0</td>\n",
       "      <td>0</td>\n",
       "      <td>0</td>\n",
       "      <td>0</td>\n",
       "      <td>0</td>\n",
       "      <td>0</td>\n",
       "      <td>0</td>\n",
       "      <td>0</td>\n",
       "      <td>0</td>\n",
       "      <td>...</td>\n",
       "      <td>0</td>\n",
       "      <td>0</td>\n",
       "      <td>0</td>\n",
       "      <td>0</td>\n",
       "      <td>0</td>\n",
       "      <td>0</td>\n",
       "      <td>0</td>\n",
       "      <td>0</td>\n",
       "      <td>0</td>\n",
       "      <td>0</td>\n",
       "    </tr>\n",
       "    <tr>\n",
       "      <th>1</th>\n",
       "      <td>0</td>\n",
       "      <td>0</td>\n",
       "      <td>0</td>\n",
       "      <td>0</td>\n",
       "      <td>0</td>\n",
       "      <td>0</td>\n",
       "      <td>0</td>\n",
       "      <td>0</td>\n",
       "      <td>0</td>\n",
       "      <td>0</td>\n",
       "      <td>...</td>\n",
       "      <td>0</td>\n",
       "      <td>0</td>\n",
       "      <td>0</td>\n",
       "      <td>0</td>\n",
       "      <td>0</td>\n",
       "      <td>0</td>\n",
       "      <td>0</td>\n",
       "      <td>0</td>\n",
       "      <td>0</td>\n",
       "      <td>0</td>\n",
       "    </tr>\n",
       "    <tr>\n",
       "      <th>2</th>\n",
       "      <td>1</td>\n",
       "      <td>0</td>\n",
       "      <td>0</td>\n",
       "      <td>0</td>\n",
       "      <td>0</td>\n",
       "      <td>0</td>\n",
       "      <td>0</td>\n",
       "      <td>0</td>\n",
       "      <td>0</td>\n",
       "      <td>0</td>\n",
       "      <td>...</td>\n",
       "      <td>0</td>\n",
       "      <td>0</td>\n",
       "      <td>0</td>\n",
       "      <td>0</td>\n",
       "      <td>0</td>\n",
       "      <td>0</td>\n",
       "      <td>0</td>\n",
       "      <td>0</td>\n",
       "      <td>0</td>\n",
       "      <td>0</td>\n",
       "    </tr>\n",
       "    <tr>\n",
       "      <th>3</th>\n",
       "      <td>4</td>\n",
       "      <td>0</td>\n",
       "      <td>0</td>\n",
       "      <td>0</td>\n",
       "      <td>0</td>\n",
       "      <td>0</td>\n",
       "      <td>0</td>\n",
       "      <td>0</td>\n",
       "      <td>0</td>\n",
       "      <td>0</td>\n",
       "      <td>...</td>\n",
       "      <td>0</td>\n",
       "      <td>0</td>\n",
       "      <td>0</td>\n",
       "      <td>0</td>\n",
       "      <td>0</td>\n",
       "      <td>0</td>\n",
       "      <td>0</td>\n",
       "      <td>0</td>\n",
       "      <td>0</td>\n",
       "      <td>0</td>\n",
       "    </tr>\n",
       "    <tr>\n",
       "      <th>4</th>\n",
       "      <td>0</td>\n",
       "      <td>0</td>\n",
       "      <td>0</td>\n",
       "      <td>0</td>\n",
       "      <td>0</td>\n",
       "      <td>0</td>\n",
       "      <td>0</td>\n",
       "      <td>0</td>\n",
       "      <td>0</td>\n",
       "      <td>0</td>\n",
       "      <td>...</td>\n",
       "      <td>0</td>\n",
       "      <td>0</td>\n",
       "      <td>0</td>\n",
       "      <td>0</td>\n",
       "      <td>0</td>\n",
       "      <td>0</td>\n",
       "      <td>0</td>\n",
       "      <td>0</td>\n",
       "      <td>0</td>\n",
       "      <td>0</td>\n",
       "    </tr>\n",
       "  </tbody>\n",
       "</table>\n",
       "<p>5 rows × 785 columns</p>\n",
       "</div>"
      ],
      "text/plain": [
       "   label  pixel0  pixel1  pixel2  pixel3  pixel4  pixel5  pixel6  pixel7  \\\n",
       "0      1       0       0       0       0       0       0       0       0   \n",
       "1      0       0       0       0       0       0       0       0       0   \n",
       "2      1       0       0       0       0       0       0       0       0   \n",
       "3      4       0       0       0       0       0       0       0       0   \n",
       "4      0       0       0       0       0       0       0       0       0   \n",
       "\n",
       "   pixel8  ...  pixel774  pixel775  pixel776  pixel777  pixel778  pixel779  \\\n",
       "0       0  ...         0         0         0         0         0         0   \n",
       "1       0  ...         0         0         0         0         0         0   \n",
       "2       0  ...         0         0         0         0         0         0   \n",
       "3       0  ...         0         0         0         0         0         0   \n",
       "4       0  ...         0         0         0         0         0         0   \n",
       "\n",
       "   pixel780  pixel781  pixel782  pixel783  \n",
       "0         0         0         0         0  \n",
       "1         0         0         0         0  \n",
       "2         0         0         0         0  \n",
       "3         0         0         0         0  \n",
       "4         0         0         0         0  \n",
       "\n",
       "[5 rows x 785 columns]"
      ]
     },
     "execution_count": 14,
     "metadata": {},
     "output_type": "execute_result"
    }
   ],
   "source": [
    "data = pd.read_csv('data/train.csv')\n",
    "data.head()"
   ]
  },
  {
   "cell_type": "markdown",
   "metadata": {},
   "source": [
    "### Explanation:\n",
    "\n",
    "- **Data Preparation:** The code starts by loading the data into a NumPy array and shuffling it to ensure a random distribution of samples. This is important for reducing bias in the model training process.\n",
    "\n",
    "- **Train-Test Split:** The data is then split into training and testing sets. The first 1000 samples are used for testing, and the rest are used for training. This separation is crucial for evaluating the model's performance on unseen data.\n",
    "\n",
    "- **Feature and Label Extraction:** For both the training and testing sets, labels (Y) and features (X) are extracted. The labels are the first row of the dataset, and the features are the remaining rows.\n",
    "\n",
    "- **Normalization:** The feature data is normalized by dividing by 255. This step is essential because the original data ranges from 0 to 255, and normalizing it to a range of 0 to 1 helps the neural network converge faster during training.\n",
    "\n",
    "- **Shape Information:** The variable `m_train` stores the number of samples in the training set, which can be useful for iterating over the dataset during training."
   ]
  },
  {
   "cell_type": "code",
   "execution_count": 15,
   "metadata": {},
   "outputs": [],
   "source": [
    "data = np.array(data)\n",
    "m, n = data.shape \n",
    "np.random.shuffle(data)\n",
    "\n",
    "# Create train and test data\n",
    "data_test = data[0:1000].T # 1000 samples for test\n",
    "Y_test = data_test[0] # label\n",
    "X_test = data_test[1:n] # data\n",
    "X_test = X_test / 255. # normalize data data in the train set goes from 0 to 255. so divide by 255 to get the value between 0 and 1\n",
    "\n",
    "data_train = data[1000:m].T\n",
    "Y_train = data_train[0]\n",
    "X_train = data_train[1:n]\n",
    "X_train = X_train / 255.\n",
    "_,m_train = X_train.shape # m_train is the number of samples in the train set"
   ]
  },
  {
   "cell_type": "code",
   "execution_count": 16,
   "metadata": {},
   "outputs": [
    {
     "data": {
      "text/plain": [
       "array([1, 8, 5, ..., 4, 6, 0], dtype=int64)"
      ]
     },
     "execution_count": 16,
     "metadata": {},
     "output_type": "execute_result"
    }
   ],
   "source": [
    "Y_train"
   ]
  },
  {
   "cell_type": "code",
   "execution_count": 17,
   "metadata": {},
   "outputs": [
    {
     "data": {
      "text/plain": [
       "(784,)"
      ]
     },
     "execution_count": 17,
     "metadata": {},
     "output_type": "execute_result"
    }
   ],
   "source": [
    "X_train[:,0].shape"
   ]
  },
  {
   "cell_type": "markdown",
   "metadata": {},
   "source": [
    "### Explanation:\n",
    "\n",
    "- **Initialization:** The `init_params` function initializes the weights and biases for the first and second layers of the neural network. The weights are randomly generated and then shifted to have values between -0.5 and 0.5.\n",
    "\n",
    "- **Activation Functions:** The `ReLU` function is used as the activation function for the hidden layer, and the `softmax` function is used for the output layer.\n",
    "\n",
    "- **Forward Propagation:** The `forward_prop` function calculates the activations for each layer using the current weights, biases, and inputs. This is essential for both making predictions and training the network.\n",
    "\n",
    "- **One-Hot Encoding:** The `one_hot` function converts the labels into a one-hot encoded format, which is necessary for calculating the loss during training.\n",
    "\n",
    "- **Backpropagation:** The `backward_prop` function calculates the gradients of the loss with respect to the weights and biases using the chain rule. This is crucial for updating the parameters of the network.\n",
    "\n",
    "- **Parameter Update:** The `update_params` function updates the weights and biases using the gradients calculated in backpropagation. The learning rate `alpha` controls the size of the updates."
   ]
  },
  {
   "cell_type": "code",
   "execution_count": 18,
   "metadata": {},
   "outputs": [],
   "source": [
    "# we need to initialize our weights and bias\n",
    "# crate randon weights and bias for the first and second layer and minus 0.5 to get the value between -0.5 and 0.5\n",
    "def init_params():\n",
    "    W1 = np.random.rand(16, 784) - 0.5\n",
    "    b1 = np.random.rand(16, 1) - 0.5\n",
    "    W2 = np.random.rand(10, 16) - 0.5\n",
    "    b2 = np.random.rand(10, 1) - 0.5 \n",
    "    return W1, b1, W2, b2\n",
    "\n",
    "# ReLU activation function\n",
    "def ReLU(Z):\n",
    "    return np.maximum(Z, 0)\n",
    "\n",
    "# softmax activation function\n",
    "def softmax(Z):\n",
    "    A = np.exp(Z) / sum(np.exp(Z))\n",
    "    return A\n",
    "\n",
    "# forward propagation\n",
    "def forward_prop(W1, b1, W2, b2, X):\n",
    "    Z1 = W1.dot(X) + b1\n",
    "    A1 = ReLU(Z1)\n",
    "    Z2 = W2.dot(A1) + b2\n",
    "    A2 = softmax(Z2)\n",
    "    return Z1, A1, Z2, A2\n",
    "\n",
    "# one hot encoding\n",
    "def one_hot(Y):\n",
    "    one_hot_Y = np.zeros((Y.size, Y.max()+1))\n",
    "    one_hot_Y[np.arange(Y.size), Y] = 1\n",
    "    one_hot_Y = one_hot_Y.T\n",
    "    return one_hot_Y\n",
    "\n",
    "\n",
    "# back progagation\n",
    "def backward_prop(Z1, A1, Z2, A2, W1, W2, X, Y):\n",
    "    one_hot_Y = one_hot(Y)\n",
    "    dZ2 = A2 - one_hot_Y\n",
    "    dW2 = 1 / m * dZ2.dot(A1.T)\n",
    "    db2 = 1 / m * np.sum(dZ2)\n",
    "    dZ1 = W2.T.dot(dZ2) * ReLU(Z1)\n",
    "    dW1 = 1 / m * dZ1.dot(X.T)\n",
    "    db1 = 1 / m * np.sum(dZ1)\n",
    "    return dW1, db1, dW2, db2\n",
    "\n",
    "# update weights and bias\n",
    "def update_params(W1, b1, W2, b2, dW1, db1, dW2, db2, alpha):\n",
    "    W1 = W1 - alpha * dW1\n",
    "    b1 = b1 - alpha * db1\n",
    "    W2 = W2 - alpha * dW2\n",
    "    b2 = b2 - alpha * db2\n",
    "    return W1, b1, W2, b2\n",
    "    "
   ]
  },
  {
   "cell_type": "markdown",
   "metadata": {},
   "source": [
    "### Explanation:\n",
    "\n",
    "- **Get Predictions:** The `get_predictions` function takes the output of the neural network (A2) and returns the index of the maximum value in each column, which corresponds to the predicted class.\n",
    "\n",
    "- **Get Accuracy:** The `get_accuracy` function compares the predictions to the true labels (Y) and calculates the proportion of correct predictions. This is a common metric for evaluating classification models.\n",
    "\n",
    "- **Gradient Descent:** The `gradient_descent` function is the main training loop. It initializes the parameters, then iteratively performs forward propagation, backpropagation, and parameter updates. The learning rate (`alpha`) controls the size of the updates, and the number of iterations determines how long the training process continues.\n",
    "\n",
    "    - The accuracy of the model is printed every 50 iterations to monitor the progress of the training.\n",
    "\n",
    "- **Return Values:** Finally, the trained weights and biases are returned, which can be used for making predictions on new data."
   ]
  },
  {
   "cell_type": "code",
   "execution_count": 19,
   "metadata": {},
   "outputs": [],
   "source": [
    "# get predictions\n",
    "def get_predictions(A2):\n",
    "    return np.argmax(A2, 0)\n",
    "\n",
    "# get accuracy \n",
    "def get_accuracy(predictions, Y):\n",
    "    print(predictions, Y)\n",
    "    return np.sum(predictions == Y) / Y.size\n",
    "\n",
    "\n",
    "# desecent gradient\n",
    "def gradient_descent(X, Y, alpha, iterations):\n",
    "    W1, b1, W2, b2 = init_params()\n",
    "    for i in range(iterations):\n",
    "        Z1, A1, Z2, A2 = forward_prop(W1, b1, W2, b2, X)\n",
    "        dW1, db1, dW2, db2 = backward_prop(Z1, A1, Z2, A2, W1, W2, X, Y)\n",
    "        W1, b1, W2, b2 = update_params(W1, b1, W2, b2, dW1, db1, dW2, db2, alpha)\n",
    "        if i % 50 == 0:\n",
    "            print(\"iteration:\", i)\n",
    "            print(\"accuracy:\", get_accuracy(get_predictions(A2), Y))\n",
    "    return W1, b1, W2, b2"
   ]
  },
  {
   "cell_type": "markdown",
   "metadata": {},
   "source": [
    "### Explanation:\n",
    "\n",
    "- **Running the Model:** This line of code initiates the training process of your neural network. The `gradient_descent` function is called with the training data (`X_train`, `Y_train`), a learning rate of `0.10`, and a total of `1000` iterations.\n",
    "\n",
    "- **Training Parameters:**\n",
    "  - **Learning Rate (`0.10`):** This value controls how much the weights and biases are updated during each iteration of gradient descent. A higher learning rate can speed up the training but might lead to instability, while a lower learning rate can result in more stable but slower training.\n",
    "  - **Iterations (`1000`):** This is the number of times the training loop will run. More iterations allow the model more opportunities to learn from the data, but also increase the computational cost.\n",
    "\n",
    "- **Output:** The trained weights (`W1`, `W2`) and biases (`b1`, `b2`) are returned and stored in their respective variables. These parameters can then be used to make predictions on new data or evaluate the model's performance on a test set."
   ]
  },
  {
   "cell_type": "code",
   "execution_count": 20,
   "metadata": {},
   "outputs": [
    {
     "name": "stdout",
     "output_type": "stream",
     "text": [
      "iteration: 0\n",
      "[6 0 6 ... 6 0 6] [1 8 5 ... 4 6 0]\n",
      "accuracy: 0.0672439024390244\n",
      "iteration: 50\n",
      "[1 1 3 ... 7 6 6] [1 8 5 ... 4 6 0]\n",
      "accuracy: 0.35309756097560974\n",
      "iteration: 100\n",
      "[1 1 0 ... 7 6 0] [1 8 5 ... 4 6 0]\n",
      "accuracy: 0.5666341463414634\n",
      "iteration: 150\n",
      "[1 1 0 ... 9 6 0] [1 8 5 ... 4 6 0]\n",
      "accuracy: 0.747219512195122\n",
      "iteration: 200\n",
      "[1 1 0 ... 4 6 0] [1 8 5 ... 4 6 0]\n",
      "accuracy: 0.8250487804878048\n",
      "iteration: 250\n",
      "[1 8 0 ... 4 6 0] [1 8 5 ... 4 6 0]\n",
      "accuracy: 0.8542195121951219\n",
      "iteration: 300\n",
      "[1 8 0 ... 4 6 0] [1 8 5 ... 4 6 0]\n",
      "accuracy: 0.8696829268292683\n",
      "iteration: 350\n",
      "[1 8 0 ... 4 6 0] [1 8 5 ... 4 6 0]\n",
      "accuracy: 0.8791219512195122\n",
      "iteration: 400\n",
      "[1 8 0 ... 4 6 0] [1 8 5 ... 4 6 0]\n",
      "accuracy: 0.8858048780487805\n",
      "iteration: 450\n",
      "[1 8 0 ... 4 6 0] [1 8 5 ... 4 6 0]\n",
      "accuracy: 0.8911951219512195\n",
      "iteration: 500\n",
      "[1 8 0 ... 4 6 0] [1 8 5 ... 4 6 0]\n",
      "accuracy: 0.8961219512195122\n",
      "iteration: 550\n",
      "[1 8 0 ... 4 6 0] [1 8 5 ... 4 6 0]\n",
      "accuracy: 0.899829268292683\n",
      "iteration: 600\n",
      "[1 8 0 ... 4 6 0] [1 8 5 ... 4 6 0]\n",
      "accuracy: 0.9027317073170732\n",
      "iteration: 650\n",
      "[1 8 0 ... 4 6 0] [1 8 5 ... 4 6 0]\n",
      "accuracy: 0.9051951219512195\n",
      "iteration: 700\n",
      "[1 8 0 ... 4 6 0] [1 8 5 ... 4 6 0]\n",
      "accuracy: 0.9070487804878049\n",
      "iteration: 750\n",
      "[1 8 0 ... 4 6 0] [1 8 5 ... 4 6 0]\n",
      "accuracy: 0.9089512195121952\n",
      "iteration: 800\n",
      "[1 8 0 ... 4 6 0] [1 8 5 ... 4 6 0]\n",
      "accuracy: 0.911\n",
      "iteration: 850\n",
      "[1 8 0 ... 4 6 0] [1 8 5 ... 4 6 0]\n",
      "accuracy: 0.912\n",
      "iteration: 900\n",
      "[1 8 0 ... 4 6 0] [1 8 5 ... 4 6 0]\n",
      "accuracy: 0.9133170731707317\n",
      "iteration: 950\n",
      "[1 8 0 ... 4 6 0] [1 8 5 ... 4 6 0]\n",
      "accuracy: 0.9145609756097561\n"
     ]
    }
   ],
   "source": [
    "# run the model\n",
    "W1, b1, W2, b2 = gradient_descent(X_train, Y_train, 0.10, 1000)"
   ]
  },
  {
   "cell_type": "code",
   "execution_count": 21,
   "metadata": {},
   "outputs": [],
   "source": [
    "def make_predictions(X, W1, b1, W2, b2):\n",
    "    _, _, _, A2 = forward_prop(W1, b1, W2, b2, X)\n",
    "    predictions = get_predictions(A2)\n",
    "    return predictions\n",
    "\n",
    "def test_prediction(index, W1, b1, W2, b2):\n",
    "    current_image = X_train[:, index, None]\n",
    "    prediction = make_predictions(X_train[:, index, None], W1, b1, W2, b2)\n",
    "    label = Y_train[index]\n",
    "    print(\"Prediction: \", prediction)\n",
    "    print(\"Label: \", label)\n",
    "    \n",
    "    current_image = current_image.reshape((28, 28)) * 255\n",
    "    plt.gray()\n",
    "    plt.imshow(current_image, interpolation='nearest')\n",
    "    plt.show()"
   ]
  },
  {
   "cell_type": "code",
   "execution_count": 22,
   "metadata": {},
   "outputs": [
    {
     "name": "stdout",
     "output_type": "stream",
     "text": [
      "Prediction:  [1]\n",
      "Label:  1\n"
     ]
    },
    {
     "data": {
      "image/png": "[encoded data removed]",
      "text/plain": [
       "<Figure size 640x480 with 1 Axes>"
      ]
     },
     "metadata": {},
     "output_type": "display_data"
    },
    {
     "name": "stdout",
     "output_type": "stream",
     "text": [
      "Prediction:  [8]\n",
      "Label:  8\n"
     ]
    },
    {
     "data": {
      "image/png": "[encoded data removed]",
      "text/plain": [
       "<Figure size 640x480 with 1 Axes>"
      ]
     },
     "metadata": {},
     "output_type": "display_data"
    },
    {
     "name": "stdout",
     "output_type": "stream",
     "text": [
      "Prediction:  [0]\n",
      "Label:  5\n"
     ]
    },
    {
     "data": {
      "image/png": "[encoded data removed]",
      "text/plain": [
       "<Figure size 640x480 with 1 Axes>"
      ]
     },
     "metadata": {},
     "output_type": "display_data"
    },
    {
     "name": "stdout",
     "output_type": "stream",
     "text": [
      "Prediction:  [4]\n",
      "Label:  4\n"
     ]
    },
    {
     "data": {
      "image/png": "[encoded data removed]",
      "text/plain": [
       "<Figure size 640x480 with 1 Axes>"
      ]
     },
     "metadata": {},
     "output_type": "display_data"
    }
   ],
   "source": [
    "test_prediction(0, W1, b1, W2, b2)\n",
    "test_prediction(1, W1, b1, W2, b2)\n",
    "test_prediction(2, W1, b1, W2, b2)\n",
    "test_prediction(3, W1, b1, W2, b2)"
   ]
  },
  {
   "cell_type": "code",
   "execution_count": 23,
   "metadata": {},
   "outputs": [
    {
     "name": "stdout",
     "output_type": "stream",
     "text": [
      "[9 5 9 5 8 7 3 7 7 8 6 2 1 0 0 1 2 8 3 8 8 0 4 2 8 3 6 0 7 5 4 8 6 0 9 0 4\n",
      " 3 3 1 7 1 2 7 6 0 4 9 7 1 9 3 8 8 2 8 1 3 8 6 0 2 0 3 6 5 2 0 3 7 9 2 4 9\n",
      " 1 1 0 8 2 0 8 1 1 3 8 2 5 6 1 5 5 4 2 2 2 5 0 5 1 7 1 0 1 7 6 9 8 9 2 5 3\n",
      " 5 1 6 0 2 0 1 6 6 4 0 3 7 2 2 1 1 7 5 0 7 3 8 2 2 6 2 3 0 8 8 0 7 9 3 8 8\n",
      " 0 8 7 0 2 4 3 8 6 3 2 5 0 1 6 2 9 9 3 8 6 3 0 5 8 3 3 3 9 5 7 9 5 3 6 6 9\n",
      " 4 9 0 9 8 1 6 6 8 2 8 6 4 1 0 0 1 3 5 3 5 8 3 7 5 1 3 3 7 1 5 6 5 9 4 1 5\n",
      " 6 4 9 2 3 2 4 8 3 1 7 1 4 0 7 8 9 0 3 4 6 4 3 5 8 3 2 8 5 3 8 6 0 3 3 5 8\n",
      " 7 8 5 8 2 6 2 6 2 9 6 7 9 0 9 9 0 5 1 9 2 4 3 8 1 0 1 6 6 4 6 1 0 4 0 1 3\n",
      " 9 4 3 2 9 0 7 8 3 7 1 7 3 7 6 8 6 7 3 3 2 9 4 3 8 5 9 9 2 6 4 4 5 8 3 2 3\n",
      " 3 8 9 3 5 2 7 4 9 8 0 9 1 3 8 6 7 3 1 4 0 1 3 6 3 6 0 7 1 1 5 9 5 7 7 1 2\n",
      " 2 0 1 8 4 2 3 1 2 7 7 2 5 6 5 1 3 0 7 3 2 9 7 7 6 6 2 4 8 4 9 1 6 6 7 2 5\n",
      " 3 7 7 1 2 0 7 6 3 4 1 4 7 8 9 5 7 8 2 8 3 7 0 2 1 7 7 6 7 5 2 0 9 5 8 9 3\n",
      " 2 7 1 3 3 1 7 4 2 9 6 6 8 1 0 7 3 6 6 2 4 1 7 4 5 9 0 1 2 0 7 5 4 1 6 2 2\n",
      " 6 3 7 5 0 2 4 4 7 9 2 6 0 7 1 1 4 2 5 2 4 5 6 7 7 3 3 9 8 8 0 1 2 2 3 2 8\n",
      " 1 2 9 2 5 4 7 7 4 0 9 7 1 8 5 6 7 9 1 7 2 7 4 3 4 2 3 0 2 1 3 7 8 4 7 2 0\n",
      " 9 0 8 1 5 1 8 2 3 3 9 0 7 9 8 7 5 8 9 0 6 0 3 4 1 3 9 3 1 4 5 3 2 4 7 0 8\n",
      " 1 5 4 2 7 5 4 3 9 1 8 9 6 9 1 9 4 3 0 3 4 7 1 8 6 5 3 2 9 1 0 8 4 2 7 3 6\n",
      " 8 5 1 7 8 4 5 5 4 7 4 0 4 3 3 5 6 5 1 8 2 1 9 1 3 3 0 0 4 3 2 9 3 2 3 4 3\n",
      " 1 9 5 6 7 9 4 4 3 8 7 3 2 5 5 7 1 0 9 3 5 1 6 3 3 5 3 7 8 5 6 9 9 8 1 0 1\n",
      " 0 3 1 9 9 6 5 7 1 4 5 0 4 0 1 8 9 7 2 5 7 0 7 9 5 8 3 5 2 1 7 3 4 6 3 8 3\n",
      " 3 0 6 4 9 2 3 7 0 9 7 9 2 3 8 9 5 4 6 2 8 9 1 8 3 4 3 1 6 6 5 0 9 3 6 8 5\n",
      " 3 2 9 1 6 4 9 1 9 5 4 6 4 5 5 9 9 5 3 6 1 8 8 0 2 5 9 2 5 8 8 3 1 1 9 2 1\n",
      " 4 1 9 1 1 2 4 8 3 9 4 1 1 8 0 3 8 4 5 6 2 1 7 8 3 0 3 1 9 3 5 9 3 8 7 2 4\n",
      " 1 0 6 3 1 3 0 4 5 4 6 4 9 4 6 9 8 5 8 9 5 3 6 5 0 4 9 6 8 3 9 1 7 9 3 9 2\n",
      " 3 0 5 3 2 2 5 8 0 1 5 3 2 6 5 4 0 8 9 2 7 2 5 1 7 8 5 0 4 4 9 7 0 3 0 5 1\n",
      " 1 1 0 9 9 1 2 1 5 4 5 1 7 9 7 0 2 7 0 8 1 4 4 2 2 5 3 9 4 5 8 8 0 8 2 5 5\n",
      " 4 9 3 2 7 0 5 8 4 8 1 0 3 9 2 8 1 4 1 9 6 7 6 1 0 7 3 9 2 2 4 0 5 4 4 5 9\n",
      " 6] [9 5 9 1 8 7 3 7 7 8 6 2 1 0 0 1 2 2 3 8 8 0 4 2 8 3 6 0 7 5 4 8 6 0 9 0 4\n",
      " 3 3 1 7 1 2 7 6 0 4 9 7 1 9 3 8 2 2 8 1 3 8 6 0 2 0 3 6 5 2 0 3 7 9 2 4 9\n",
      " 1 1 0 8 2 0 9 1 1 3 8 2 5 6 1 5 5 4 2 2 0 5 9 5 1 7 1 0 1 7 6 9 5 9 2 5 3\n",
      " 5 1 6 0 2 0 1 2 6 4 0 3 0 2 2 1 1 7 5 0 7 8 8 2 2 6 2 3 0 2 8 0 7 9 3 8 8\n",
      " 0 8 7 0 2 4 3 8 6 3 7 5 6 2 6 2 9 9 3 8 6 3 0 5 8 5 3 3 9 5 7 9 5 3 6 6 9\n",
      " 4 9 0 9 8 4 6 6 8 2 9 6 4 1 0 0 1 3 5 3 3 8 3 7 5 1 3 3 7 1 5 6 5 9 4 1 5\n",
      " 6 4 9 2 3 2 4 8 3 1 7 1 4 0 7 8 9 0 3 4 6 4 2 5 8 3 2 8 5 3 8 6 0 3 3 5 8\n",
      " 7 8 5 8 2 5 6 6 2 9 6 7 9 0 9 9 0 5 1 9 2 4 3 8 1 0 1 6 6 4 6 1 7 4 0 1 3\n",
      " 9 4 3 2 9 6 9 8 3 7 1 7 3 7 6 3 6 7 3 3 2 5 4 3 8 5 9 9 2 6 6 4 5 8 3 2 3\n",
      " 3 8 9 3 5 2 7 4 9 8 0 7 1 3 8 6 7 3 1 4 0 1 5 6 9 2 0 7 1 1 5 9 5 7 7 1 2\n",
      " 2 0 1 8 6 2 3 1 2 7 7 2 5 6 5 1 3 0 7 3 2 3 7 7 6 6 2 4 8 2 4 1 6 6 7 2 5\n",
      " 3 7 7 1 2 0 7 6 3 4 1 4 5 8 9 5 7 3 2 8 3 5 0 2 1 7 7 6 7 5 1 0 9 5 8 9 3\n",
      " 2 7 3 3 3 9 7 4 2 9 6 6 8 1 0 7 3 6 6 2 4 8 7 4 5 9 0 1 2 0 7 5 4 1 6 2 2\n",
      " 6 3 7 5 0 2 4 4 2 4 3 2 0 7 1 1 4 2 5 2 4 5 6 7 7 3 5 9 8 8 0 1 2 2 3 2 8\n",
      " 1 8 4 2 5 4 7 7 4 0 9 7 1 8 5 6 7 4 1 7 2 7 4 3 4 2 3 0 2 1 3 7 8 4 7 2 0\n",
      " 9 0 8 1 5 1 8 2 3 3 9 0 7 9 8 7 5 8 9 0 6 0 3 4 1 3 9 3 1 4 5 3 2 4 7 0 8\n",
      " 1 5 4 2 7 5 4 3 9 1 8 9 6 9 1 9 4 3 0 3 4 7 1 8 6 5 3 2 9 1 0 1 4 2 7 3 6\n",
      " 8 5 1 7 8 4 5 5 4 7 4 0 4 3 3 5 6 5 1 8 2 1 5 1 3 3 2 0 4 3 2 9 3 2 3 4 3\n",
      " 1 9 3 6 7 9 4 4 3 8 7 3 2 5 5 7 1 2 9 3 5 1 6 3 3 5 3 7 8 5 6 9 9 8 2 0 9\n",
      " 0 3 1 9 9 6 5 7 1 4 5 5 4 5 8 8 9 7 3 5 7 0 7 9 5 8 2 5 2 1 7 3 8 6 3 8 3\n",
      " 3 0 6 4 9 1 3 7 0 9 7 9 2 3 8 9 5 0 6 2 8 9 1 8 3 4 3 1 6 6 5 0 9 3 6 8 5\n",
      " 3 2 9 1 6 4 9 1 9 5 4 6 4 5 5 9 9 5 3 6 1 5 8 0 3 5 9 2 6 8 8 3 1 1 9 2 5\n",
      " 4 1 9 1 1 2 4 4 3 9 4 1 1 8 0 3 8 4 5 9 2 1 7 8 3 0 3 1 9 3 5 9 3 8 7 2 4\n",
      " 1 0 6 4 1 4 0 4 5 4 6 4 9 4 4 9 8 5 8 9 5 3 6 5 0 4 4 6 8 3 9 8 7 9 3 9 2\n",
      " 3 0 3 3 5 2 5 8 0 1 5 3 2 6 5 4 0 8 9 2 7 2 3 9 7 8 5 0 4 4 9 7 0 3 0 0 1\n",
      " 1 1 0 9 9 1 2 1 5 4 5 1 7 8 7 0 2 7 0 8 1 4 4 2 2 3 3 4 8 3 8 8 0 8 2 5 5\n",
      " 4 9 3 2 7 0 5 2 4 8 1 0 5 9 2 8 1 4 1 9 4 7 6 1 0 7 3 9 2 2 4 0 5 4 6 5 9\n",
      " 6]\n"
     ]
    },
    {
     "data": {
      "text/plain": [
       "0.91"
      ]
     },
     "execution_count": 23,
     "metadata": {},
     "output_type": "execute_result"
    }
   ],
   "source": [
    "dev_predictions = make_predictions(X_test, W1, b1, W2, b2)\n",
    "get_accuracy(dev_predictions, Y_test)"
   ]
  }
 ],
 "metadata": {
  "kernelspec": {
   "display_name": "base",
   "language": "python",
   "name": "python3"
  },
  "language_info": {
   "codemirror_mode": {
    "name": "ipython",
    "version": 3
   },
   "file_extension": ".py",
   "mimetype": "text/x-python",
   "name": "python",
   "nbconvert_exporter": "python",
   "pygments_lexer": "ipython3",
   "version": "3.11.5"
  }
 },
 "nbformat": 4,
 "nbformat_minor": 2
}
