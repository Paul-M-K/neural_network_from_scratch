{
 "cells": [
  {
   "cell_type": "markdown",
   "metadata": {},
   "source": [
    "# Import libraries"
   ]
  },
  {
   "cell_type": "code",
   "execution_count": 2,
   "metadata": {},
   "outputs": [],
   "source": [
    "import numpy as np\n",
    "import pandas as pd\n",
    "import matplotlib.pyplot as plt "
   ]
  },
  {
   "cell_type": "markdown",
   "metadata": {},
   "source": [
    "#### Create a simple forward propagation\n",
    "this is for my own understanding. I will use simple numbers and check the output.   "
   ]
  },
  {
   "cell_type": "code",
   "execution_count": 23,
   "metadata": {},
   "outputs": [
    {
     "name": "stdout",
     "output_type": "stream",
     "text": [
      "[0.4 0.2 1.  0.9 0.1]\n"
     ]
    }
   ],
   "source": [
    "# create a random vector array of 5 numbers between 0 and 1 with only 1 decimal place\n",
    "inputs = np.random.rand(5).round(1)\n",
    "print(inputs)"
   ]
  },
  {
   "cell_type": "code",
   "execution_count": 24,
   "metadata": {},
   "outputs": [
    {
     "name": "stdout",
     "output_type": "stream",
     "text": [
      "[[-0.5 -0.1  0.1  0.4 -0.3]\n",
      " [-0.2  0.1  0.2 -0.4 -0.3]]\n"
     ]
    }
   ],
   "source": [
    "# create a weight array of 2 columns and 5 rows between -0.5 and 0.5 with only 1 decimal place\n",
    "weights = np.random.rand(2,5).round(1) - 0.5\n",
    "print(weights)"
   ]
  },
  {
   "cell_type": "code",
   "execution_count": 25,
   "metadata": {},
   "outputs": [
    {
     "name": "stdout",
     "output_type": "stream",
     "text": [
      "[-0.4 -0.5]\n"
     ]
    }
   ],
   "source": [
    "# create a bias array of 2 numbers between -0.5 and 0.5 with only 1 decimal place\n",
    "bias = np.random.rand(2).round(1) - 0.5\n",
    "print(bias)"
   ]
  },
  {
   "cell_type": "code",
   "execution_count": 26,
   "metadata": {},
   "outputs": [
    {
     "name": "stdout",
     "output_type": "stream",
     "text": [
      "[ 0.21 -0.25]\n"
     ]
    }
   ],
   "source": [
    "# calculate the dot product of the inputs and weights\n",
    "dot_product = np.dot(weights, inputs)\n",
    "print(dot_product)"
   ]
  },
  {
   "cell_type": "code",
   "execution_count": 27,
   "metadata": {},
   "outputs": [
    {
     "name": "stdout",
     "output_type": "stream",
     "text": [
      "[-0.19 -0.75]\n"
     ]
    }
   ],
   "source": [
    "# add the bias to the dot product\n",
    "output = dot_product + bias\n",
    "print(output)"
   ]
  },
  {
   "cell_type": "code",
   "execution_count": 28,
   "metadata": {},
   "outputs": [
    {
     "name": "stdout",
     "output_type": "stream",
     "text": [
      "[0.45264238 0.3208213 ]\n"
     ]
    }
   ],
   "source": [
    "# create a sigmoid function\n",
    "def sigmoid(x):\n",
    "    return 1 / (1 + np.exp(-x))\n",
    "\n",
    "# apply the sigmoid function to the output\n",
    "sig = sigmoid(output)\n",
    "print(sig)"
   ]
  },
  {
   "cell_type": "code",
   "execution_count": 29,
   "metadata": {},
   "outputs": [
    {
     "name": "stdout",
     "output_type": "stream",
     "text": [
      "[0. 0.]\n"
     ]
    }
   ],
   "source": [
    "# create a RuLU function\n",
    "def relu(x):\n",
    "    return np.maximum(0, x)\n",
    "\n",
    "# apply the RuLU function to the output\n",
    "rel = relu(output)\n",
    "print(rel)"
   ]
  },
  {
   "cell_type": "code",
   "execution_count": 31,
   "metadata": {},
   "outputs": [
    {
     "data": {
      "text/html": [
       "<div>\n",
       "<style scoped>\n",
       "    .dataframe tbody tr th:only-of-type {\n",
       "        vertical-align: middle;\n",
       "    }\n",
       "\n",
       "    .dataframe tbody tr th {\n",
       "        vertical-align: top;\n",
       "    }\n",
       "\n",
       "    .dataframe thead th {\n",
       "        text-align: right;\n",
       "    }\n",
       "</style>\n",
       "<table border=\"1\" class=\"dataframe\">\n",
       "  <thead>\n",
       "    <tr style=\"text-align: right;\">\n",
       "      <th></th>\n",
       "      <th>label</th>\n",
       "      <th>pixel0</th>\n",
       "      <th>pixel1</th>\n",
       "      <th>pixel2</th>\n",
       "      <th>pixel3</th>\n",
       "      <th>pixel4</th>\n",
       "      <th>pixel5</th>\n",
       "      <th>pixel6</th>\n",
       "      <th>pixel7</th>\n",
       "      <th>pixel8</th>\n",
       "      <th>...</th>\n",
       "      <th>pixel774</th>\n",
       "      <th>pixel775</th>\n",
       "      <th>pixel776</th>\n",
       "      <th>pixel777</th>\n",
       "      <th>pixel778</th>\n",
       "      <th>pixel779</th>\n",
       "      <th>pixel780</th>\n",
       "      <th>pixel781</th>\n",
       "      <th>pixel782</th>\n",
       "      <th>pixel783</th>\n",
       "    </tr>\n",
       "  </thead>\n",
       "  <tbody>\n",
       "    <tr>\n",
       "      <th>0</th>\n",
       "      <td>1</td>\n",
       "      <td>0</td>\n",
       "      <td>0</td>\n",
       "      <td>0</td>\n",
       "      <td>0</td>\n",
       "      <td>0</td>\n",
       "      <td>0</td>\n",
       "      <td>0</td>\n",
       "      <td>0</td>\n",
       "      <td>0</td>\n",
       "      <td>...</td>\n",
       "      <td>0</td>\n",
       "      <td>0</td>\n",
       "      <td>0</td>\n",
       "      <td>0</td>\n",
       "      <td>0</td>\n",
       "      <td>0</td>\n",
       "      <td>0</td>\n",
       "      <td>0</td>\n",
       "      <td>0</td>\n",
       "      <td>0</td>\n",
       "    </tr>\n",
       "    <tr>\n",
       "      <th>1</th>\n",
       "      <td>0</td>\n",
       "      <td>0</td>\n",
       "      <td>0</td>\n",
       "      <td>0</td>\n",
       "      <td>0</td>\n",
       "      <td>0</td>\n",
       "      <td>0</td>\n",
       "      <td>0</td>\n",
       "      <td>0</td>\n",
       "      <td>0</td>\n",
       "      <td>...</td>\n",
       "      <td>0</td>\n",
       "      <td>0</td>\n",
       "      <td>0</td>\n",
       "      <td>0</td>\n",
       "      <td>0</td>\n",
       "      <td>0</td>\n",
       "      <td>0</td>\n",
       "      <td>0</td>\n",
       "      <td>0</td>\n",
       "      <td>0</td>\n",
       "    </tr>\n",
       "    <tr>\n",
       "      <th>2</th>\n",
       "      <td>1</td>\n",
       "      <td>0</td>\n",
       "      <td>0</td>\n",
       "      <td>0</td>\n",
       "      <td>0</td>\n",
       "      <td>0</td>\n",
       "      <td>0</td>\n",
       "      <td>0</td>\n",
       "      <td>0</td>\n",
       "      <td>0</td>\n",
       "      <td>...</td>\n",
       "      <td>0</td>\n",
       "      <td>0</td>\n",
       "      <td>0</td>\n",
       "      <td>0</td>\n",
       "      <td>0</td>\n",
       "      <td>0</td>\n",
       "      <td>0</td>\n",
       "      <td>0</td>\n",
       "      <td>0</td>\n",
       "      <td>0</td>\n",
       "    </tr>\n",
       "    <tr>\n",
       "      <th>3</th>\n",
       "      <td>4</td>\n",
       "      <td>0</td>\n",
       "      <td>0</td>\n",
       "      <td>0</td>\n",
       "      <td>0</td>\n",
       "      <td>0</td>\n",
       "      <td>0</td>\n",
       "      <td>0</td>\n",
       "      <td>0</td>\n",
       "      <td>0</td>\n",
       "      <td>...</td>\n",
       "      <td>0</td>\n",
       "      <td>0</td>\n",
       "      <td>0</td>\n",
       "      <td>0</td>\n",
       "      <td>0</td>\n",
       "      <td>0</td>\n",
       "      <td>0</td>\n",
       "      <td>0</td>\n",
       "      <td>0</td>\n",
       "      <td>0</td>\n",
       "    </tr>\n",
       "    <tr>\n",
       "      <th>4</th>\n",
       "      <td>0</td>\n",
       "      <td>0</td>\n",
       "      <td>0</td>\n",
       "      <td>0</td>\n",
       "      <td>0</td>\n",
       "      <td>0</td>\n",
       "      <td>0</td>\n",
       "      <td>0</td>\n",
       "      <td>0</td>\n",
       "      <td>0</td>\n",
       "      <td>...</td>\n",
       "      <td>0</td>\n",
       "      <td>0</td>\n",
       "      <td>0</td>\n",
       "      <td>0</td>\n",
       "      <td>0</td>\n",
       "      <td>0</td>\n",
       "      <td>0</td>\n",
       "      <td>0</td>\n",
       "      <td>0</td>\n",
       "      <td>0</td>\n",
       "    </tr>\n",
       "  </tbody>\n",
       "</table>\n",
       "<p>5 rows × 785 columns</p>\n",
       "</div>"
      ],
      "text/plain": [
       "   label  pixel0  pixel1  pixel2  pixel3  pixel4  pixel5  pixel6  pixel7  \\\n",
       "0      1       0       0       0       0       0       0       0       0   \n",
       "1      0       0       0       0       0       0       0       0       0   \n",
       "2      1       0       0       0       0       0       0       0       0   \n",
       "3      4       0       0       0       0       0       0       0       0   \n",
       "4      0       0       0       0       0       0       0       0       0   \n",
       "\n",
       "   pixel8  ...  pixel774  pixel775  pixel776  pixel777  pixel778  pixel779  \\\n",
       "0       0  ...         0         0         0         0         0         0   \n",
       "1       0  ...         0         0         0         0         0         0   \n",
       "2       0  ...         0         0         0         0         0         0   \n",
       "3       0  ...         0         0         0         0         0         0   \n",
       "4       0  ...         0         0         0         0         0         0   \n",
       "\n",
       "   pixel780  pixel781  pixel782  pixel783  \n",
       "0         0         0         0         0  \n",
       "1         0         0         0         0  \n",
       "2         0         0         0         0  \n",
       "3         0         0         0         0  \n",
       "4         0         0         0         0  \n",
       "\n",
       "[5 rows x 785 columns]"
      ]
     },
     "execution_count": 31,
     "metadata": {},
     "output_type": "execute_result"
    }
   ],
   "source": [
    "data = pd.read_csv('data/train.csv')\n",
    "data.head()"
   ]
  },
  {
   "cell_type": "code",
   "execution_count": 32,
   "metadata": {},
   "outputs": [],
   "source": [
    "data = np.array(data)\n",
    "m, n = data.shape \n",
    "np.random.shuffle(data)\n",
    "\n",
    "# Create train and test data\n",
    "data_test = data[0:1000].T # 1000 samples for test\n",
    "Y_test = data_test[0] # label\n",
    "X_test = data_test[1:n] # data\n",
    "X_test = X_test / 255. # normalize data data in the train set goes from 0 to 255. so divide by 255 to get the value between 0 and 1\n",
    "\n",
    "data_train = data[1000:m].T\n",
    "Y_train = data_train[0]\n",
    "X_train = data_train[1:n]\n",
    "X_train = X_train / 255.\n",
    "_,m_train = X_train.shape # m_train is the number of samples in the train set"
   ]
  },
  {
   "cell_type": "code",
   "execution_count": 34,
   "metadata": {},
   "outputs": [
    {
     "data": {
      "text/plain": [
       "(784, 41000)"
      ]
     },
     "execution_count": 34,
     "metadata": {},
     "output_type": "execute_result"
    }
   ],
   "source": [
    "X_train.shape"
   ]
  },
  {
   "cell_type": "code",
   "execution_count": 35,
   "metadata": {},
   "outputs": [
    {
     "data": {
      "text/plain": [
       "(41000,)"
      ]
     },
     "execution_count": 35,
     "metadata": {},
     "output_type": "execute_result"
    }
   ],
   "source": [
    "Y_train.shape"
   ]
  },
  {
   "cell_type": "code",
   "execution_count": 43,
   "metadata": {},
   "outputs": [
    {
     "name": "stdout",
     "output_type": "stream",
     "text": [
      "8 [0.         0.         0.         0.         0.         0.\n",
      " 0.         0.         0.         0.         0.         0.\n",
      " 0.         0.         0.         0.         0.         0.\n",
      " 0.         0.         0.         0.         0.         0.\n",
      " 0.         0.         0.         0.         0.         0.\n",
      " 0.         0.         0.         0.         0.         0.\n",
      " 0.         0.         0.         0.         0.         0.\n",
      " 0.         0.         0.         0.         0.         0.\n",
      " 0.         0.         0.         0.         0.         0.\n",
      " 0.         0.         0.         0.         0.         0.\n",
      " 0.         0.         0.         0.         0.         0.\n",
      " 0.         0.         0.         0.         0.         0.\n",
      " 0.         0.         0.         0.         0.         0.\n",
      " 0.         0.         0.         0.         0.         0.\n",
      " 0.         0.         0.         0.         0.         0.\n",
      " 0.         0.         0.         0.         0.         0.\n",
      " 0.         0.         0.         0.         0.         0.\n",
      " 0.         0.         0.         0.         0.         0.\n",
      " 0.         0.         0.         0.         0.         0.\n",
      " 0.         0.         0.         0.         0.         0.\n",
      " 0.         0.         0.         0.         0.11372549 0.36862745\n",
      " 0.83529412 1.         0.74117647 0.28235294 0.         0.\n",
      " 0.         0.         0.         0.         0.         0.\n",
      " 0.         0.         0.         0.         0.         0.\n",
      " 0.         0.         0.         0.         0.         0.\n",
      " 0.         0.18823529 0.8627451  0.99607843 0.99607843 0.99607843\n",
      " 0.99607843 0.9254902  0.36470588 0.         0.         0.\n",
      " 0.         0.         0.         0.         0.         0.\n",
      " 0.         0.         0.         0.         0.         0.\n",
      " 0.         0.         0.         0.         0.38823529 0.98431373\n",
      " 0.96862745 0.63529412 0.77254902 0.33333333 0.2627451  0.5254902\n",
      " 0.88627451 0.38431373 0.         0.         0.         0.\n",
      " 0.         0.         0.         0.         0.         0.\n",
      " 0.         0.         0.         0.         0.         0.\n",
      " 0.         0.54901961 0.98823529 0.94901961 0.42745098 0.\n",
      " 0.00784314 0.         0.         0.07058824 0.87058824 0.70980392\n",
      " 0.         0.         0.         0.         0.         0.\n",
      " 0.         0.         0.         0.         0.         0.\n",
      " 0.         0.         0.         0.         0.37254902 0.97254902\n",
      " 0.96078431 0.56862745 0.         0.         0.         0.\n",
      " 0.         0.         0.4745098  0.70980392 0.         0.\n",
      " 0.         0.         0.         0.         0.         0.\n",
      " 0.         0.         0.         0.         0.         0.\n",
      " 0.         0.         0.72941176 0.99607843 0.65490196 0.\n",
      " 0.         0.         0.         0.         0.         0.\n",
      " 0.68627451 0.80784314 0.03137255 0.         0.         0.\n",
      " 0.         0.         0.         0.         0.         0.\n",
      " 0.         0.         0.         0.         0.         0.\n",
      " 0.69411765 0.99607843 0.29411765 0.         0.         0.\n",
      " 0.         0.         0.         0.19607843 0.83137255 0.74901961\n",
      " 0.03921569 0.         0.         0.         0.         0.\n",
      " 0.         0.         0.         0.         0.         0.\n",
      " 0.         0.         0.         0.         0.78039216 0.99607843\n",
      " 0.8745098  0.46666667 0.42745098 0.07843137 0.07843137 0.07843137\n",
      " 0.07843137 0.92941176 0.96470588 0.31372549 0.         0.\n",
      " 0.         0.         0.         0.         0.         0.\n",
      " 0.         0.         0.         0.         0.         0.\n",
      " 0.         0.         0.07058824 0.50588235 0.99607843 0.99607843\n",
      " 0.99607843 0.99607843 0.99607843 0.99607843 0.99607843 0.81960784\n",
      " 0.39607843 0.         0.         0.         0.         0.\n",
      " 0.         0.         0.         0.         0.         0.\n",
      " 0.         0.         0.         0.         0.         0.\n",
      " 0.         0.00784314 0.18431373 0.83137255 0.99607843 0.99607843\n",
      " 0.99607843 0.53333333 0.43137255 0.05098039 0.         0.\n",
      " 0.         0.         0.         0.         0.         0.\n",
      " 0.         0.         0.         0.         0.         0.\n",
      " 0.         0.         0.         0.         0.         0.\n",
      " 0.29803922 0.98823529 0.99607843 0.97647059 0.94901961 0.67843137\n",
      " 0.69019608 0.80784314 0.80784314 0.70196078 0.08235294 0.\n",
      " 0.         0.         0.         0.         0.         0.\n",
      " 0.         0.         0.         0.         0.         0.\n",
      " 0.         0.         0.         0.18039216 0.90588235 0.99607843\n",
      " 0.82745098 0.21568627 0.0627451  0.63921569 0.78823529 0.69411765\n",
      " 0.93333333 0.99607843 0.94509804 0.26666667 0.         0.\n",
      " 0.         0.         0.         0.         0.         0.\n",
      " 0.         0.         0.         0.         0.         0.\n",
      " 0.         0.53333333 0.9372549  0.38431373 0.03921569 0.\n",
      " 0.         0.00784314 0.02352941 0.         0.0745098  0.66666667\n",
      " 0.99607843 0.53333333 0.         0.         0.         0.\n",
      " 0.         0.         0.         0.         0.         0.\n",
      " 0.         0.         0.         0.         0.17254902 0.95686275\n",
      " 0.65490196 0.         0.         0.         0.         0.\n",
      " 0.         0.         0.         0.24313725 0.95686275 0.67843137\n",
      " 0.         0.         0.         0.         0.         0.\n",
      " 0.         0.         0.         0.         0.         0.\n",
      " 0.         0.         0.15294118 0.94509804 0.65490196 0.\n",
      " 0.         0.         0.         0.         0.         0.\n",
      " 0.         0.08235294 0.92941176 0.97647059 0.         0.\n",
      " 0.         0.         0.         0.         0.         0.\n",
      " 0.         0.         0.         0.         0.         0.\n",
      " 0.22745098 0.99607843 0.65490196 0.         0.         0.\n",
      " 0.         0.         0.         0.         0.         0.34117647\n",
      " 0.99607843 0.91764706 0.         0.         0.         0.\n",
      " 0.         0.         0.         0.         0.         0.\n",
      " 0.         0.         0.         0.         0.05098039 0.8745098\n",
      " 0.78823529 0.17254902 0.         0.         0.         0.\n",
      " 0.         0.         0.17254902 0.79215686 0.99215686 0.44705882\n",
      " 0.         0.         0.         0.         0.         0.\n",
      " 0.         0.         0.         0.         0.         0.\n",
      " 0.         0.         0.         0.37254902 0.99607843 0.92156863\n",
      " 0.32941176 0.26666667 0.26666667 0.16470588 0.26666667 0.4745098\n",
      " 0.92156863 0.91764706 0.61960784 0.         0.         0.\n",
      " 0.         0.         0.         0.         0.         0.\n",
      " 0.         0.         0.         0.         0.         0.\n",
      " 0.         0.01176471 0.36862745 0.98823529 0.99607843 0.99607843\n",
      " 0.99607843 0.95294118 0.99607843 0.87058824 0.69019608 0.07843137\n",
      " 0.         0.         0.         0.         0.         0.\n",
      " 0.         0.         0.         0.         0.         0.\n",
      " 0.         0.         0.         0.         0.         0.\n",
      " 0.         0.45490196 0.61568627 0.7372549  0.78039216 0.7372549\n",
      " 0.24313725 0.01960784 0.         0.         0.         0.\n",
      " 0.         0.         0.         0.         0.         0.\n",
      " 0.         0.         0.         0.         0.         0.\n",
      " 0.         0.         0.         0.         0.         0.\n",
      " 0.         0.         0.         0.         0.         0.\n",
      " 0.         0.         0.         0.         0.         0.\n",
      " 0.         0.         0.         0.         0.         0.\n",
      " 0.         0.         0.         0.         0.         0.\n",
      " 0.         0.         0.         0.         0.         0.\n",
      " 0.         0.         0.         0.         0.         0.\n",
      " 0.         0.         0.         0.         0.         0.\n",
      " 0.         0.         0.         0.         0.         0.\n",
      " 0.         0.         0.         0.         0.         0.\n",
      " 0.         0.         0.         0.         0.         0.\n",
      " 0.         0.         0.         0.         0.         0.\n",
      " 0.         0.         0.         0.         0.         0.\n",
      " 0.         0.         0.         0.         0.         0.\n",
      " 0.         0.         0.         0.         0.         0.\n",
      " 0.         0.         0.         0.         0.         0.\n",
      " 0.         0.         0.         0.         0.         0.\n",
      " 0.         0.         0.         0.        ]\n"
     ]
    }
   ],
   "source": [
    "print(Y_train[2],X_train[:,2])"
   ]
  },
  {
   "cell_type": "code",
   "execution_count": 36,
   "metadata": {},
   "outputs": [],
   "source": [
    "W1 = np.random.rand(10, 784) - 0.5"
   ]
  },
  {
   "cell_type": "code",
   "execution_count": 38,
   "metadata": {},
   "outputs": [
    {
     "name": "stdout",
     "output_type": "stream",
     "text": [
      "[-2.10781108  1.25791245 -4.47501616  1.12662281  1.57729744  0.68613962\n",
      "  2.41360218  0.79700311  1.60541794 -0.3874295 ]\n"
     ]
    }
   ],
   "source": [
    "# get the dot product between X_train and W1\n",
    "Z1 = np.dot(W1, X_train[:,0])\n",
    "print(Z1)"
   ]
  },
  {
   "cell_type": "code",
   "execution_count": 44,
   "metadata": {},
   "outputs": [
    {
     "name": "stdout",
     "output_type": "stream",
     "text": [
      "[0.         1.25791245 0.         1.12662281 1.57729744 0.68613962\n",
      " 2.41360218 0.79700311 1.60541794 0.        ]\n"
     ]
    }
   ],
   "source": [
    "# run Z1 through relu function\n",
    "def relu(x):\n",
    "    return np.maximum(0, x)\n",
    "\n",
    "A1 = relu(Z1)\n",
    "print(A1)"
   ]
  },
  {
   "cell_type": "code",
   "execution_count": 8,
   "metadata": {},
   "outputs": [],
   "source": [
    "# we need to initialize our weights and bias\n",
    "# crate randon weights and bias for the first and second layer and minus 0.5 to get the value between -0.5 and 0.5\n",
    "def init_params():\n",
    "    W1 = np.random.rand(10, 784) - 0.5\n",
    "    b1 = np.random.rand(10, 1) - 0.5\n",
    "    W2 = np.random.rand(10, 10) - 0.5\n",
    "    b2 = np.random.rand(10, 1) - 0.5 \n",
    "    return W1, b1, W2, b2\n",
    "\n",
    "# ReLU activation function\n",
    "def ReLU(Z):\n",
    "    return np.maximum(Z, 0)\n",
    "\n",
    "# softmax activation function\n",
    "def softmax(Z):\n",
    "    A = np.exp(Z) / sum(np.exp(Z))\n",
    "    return A\n",
    "\n",
    "# forward propagation\n",
    "def forward_prop(W1, b1, W2, b2, X):\n",
    "    Z1 = W1.dot(X) + b1\n",
    "    A1 = ReLU(Z1)\n",
    "    Z2 = W2.dot(A1) + b2\n",
    "    A2 = softmax(Z2)\n",
    "    return Z1, A1, Z2, A2\n",
    "\n",
    "# one hot encoding\n",
    "def one_hot(Y):\n",
    "    one_hot_Y = np.zeros((Y.size, Y.max()+1))\n",
    "    one_hot_Y[np.arange(Y.size), Y] = 1\n",
    "    one_hot_Y = one_hot_Y.T\n",
    "    return one_hot_Y\n",
    "\n",
    "\n",
    "# back progagation\n",
    "def backward_prop(Z1, A1, Z2, A2, W1, W2, X, Y):\n",
    "    one_hot_Y = one_hot(Y)\n",
    "    dZ2 = A2 - one_hot_Y\n",
    "    dW2 = 1 / m * dZ2.dot(A1.T)\n",
    "    db2 = 1 / m * np.sum(dZ2)\n",
    "    dZ1 = W2.T.dot(dZ2) * ReLU(Z1)\n",
    "    dW1 = 1 / m * dZ1.dot(X.T)\n",
    "    db1 = 1 / m * np.sum(dZ1)\n",
    "    return dW1, db1, dW2, db2\n",
    "\n",
    "# update weights and bias\n",
    "def update_params(W1, b1, W2, b2, dW1, db1, dW2, db2, alpha):\n",
    "    W1 = W1 - alpha * dW1\n",
    "    b1 = b1 - alpha * db1\n",
    "    W2 = W2 - alpha * dW2\n",
    "    b2 = b2 - alpha * db2\n",
    "    return W1, b1, W2, b2\n",
    "    "
   ]
  },
  {
   "cell_type": "markdown",
   "metadata": {},
   "source": [
    "### Explanation:\n",
    "\n",
    "- **Get Predictions:** The `get_predictions` function takes the output of the neural network (A2) and returns the index of the maximum value in each column, which corresponds to the predicted class.\n",
    "\n",
    "- **Get Accuracy:** The `get_accuracy` function compares the predictions to the true labels (Y) and calculates the proportion of correct predictions. This is a common metric for evaluating classification models.\n",
    "\n",
    "- **Gradient Descent:** The `gradient_descent` function is the main training loop. It initializes the parameters, then iteratively performs forward propagation, backpropagation, and parameter updates. The learning rate (`alpha`) controls the size of the updates, and the number of iterations determines how long the training process continues.\n",
    "\n",
    "    - The accuracy of the model is printed every 50 iterations to monitor the progress of the training.\n",
    "\n",
    "- **Return Values:** Finally, the trained weights and biases are returned, which can be used for making predictions on new data."
   ]
  },
  {
   "cell_type": "code",
   "execution_count": 9,
   "metadata": {},
   "outputs": [],
   "source": [
    "# get predictions\n",
    "def get_predictions(A2):\n",
    "    return np.argmax(A2, 0)\n",
    "\n",
    "# get accuracy \n",
    "def get_accuracy(predictions, Y):\n",
    "    print(predictions, Y)\n",
    "    return np.sum(predictions == Y) / Y.size\n",
    "\n",
    "\n",
    "# desecent gradient\n",
    "def gradient_descent(X, Y, alpha, iterations):\n",
    "    W1, b1, W2, b2 = init_params()\n",
    "    for i in range(iterations):\n",
    "        Z1, A1, Z2, A2 = forward_prop(W1, b1, W2, b2, X)\n",
    "        dW1, db1, dW2, db2 = backward_prop(Z1, A1, Z2, A2, W1, W2, X, Y)\n",
    "        W1, b1, W2, b2 = update_params(W1, b1, W2, b2, dW1, db1, dW2, db2, alpha)\n",
    "        if i % 50 == 0:\n",
    "            print(\"iteration:\", i)\n",
    "            print(\"accuracy:\", get_accuracy(get_predictions(A2), Y))\n",
    "    return W1, b1, W2, b2"
   ]
  },
  {
   "cell_type": "markdown",
   "metadata": {},
   "source": [
    "### Explanation:\n",
    "\n",
    "- **Running the Model:** This line of code initiates the training process of your neural network. The `gradient_descent` function is called with the training data (`X_train`, `Y_train`), a learning rate of `0.10`, and a total of `1000` iterations.\n",
    "\n",
    "- **Training Parameters:**\n",
    "  - **Learning Rate (`0.10`):** This value controls how much the weights and biases are updated during each iteration of gradient descent. A higher learning rate can speed up the training but might lead to instability, while a lower learning rate can result in more stable but slower training.\n",
    "  - **Iterations (`1000`):** This is the number of times the training loop will run. More iterations allow the model more opportunities to learn from the data, but also increase the computational cost.\n",
    "\n",
    "- **Output:** The trained weights (`W1`, `W2`) and biases (`b1`, `b2`) are returned and stored in their respective variables. These parameters can then be used to make predictions on new data or evaluate the model's performance on a test set."
   ]
  },
  {
   "cell_type": "code",
   "execution_count": 10,
   "metadata": {},
   "outputs": [
    {
     "name": "stdout",
     "output_type": "stream",
     "text": [
      "iteration: 0\n",
      "[0 0 6 ... 8 6 8] [3 7 2 ... 7 1 1]\n",
      "accuracy: 0.11697560975609757\n",
      "iteration: 50\n",
      "[3 7 2 ... 7 1 8] [3 7 2 ... 7 1 1]\n",
      "accuracy: 0.4701951219512195\n",
      "iteration: 100\n",
      "[3 7 2 ... 7 1 1] [3 7 2 ... 7 1 1]\n",
      "accuracy: 0.6808780487804879\n",
      "iteration: 150\n",
      "[8 7 6 ... 7 1 1] [3 7 2 ... 7 1 1]\n",
      "accuracy: 0.7080975609756097\n",
      "iteration: 200\n",
      "[8 7 6 ... 7 1 1] [3 7 2 ... 7 1 1]\n",
      "accuracy: 0.7627073170731707\n",
      "iteration: 250\n",
      "[8 7 6 ... 7 1 1] [3 7 2 ... 7 1 1]\n",
      "accuracy: 0.8011707317073171\n",
      "iteration: 300\n",
      "[3 7 6 ... 7 1 1] [3 7 2 ... 7 1 1]\n",
      "accuracy: 0.8225121951219512\n",
      "iteration: 350\n",
      "[3 7 6 ... 7 1 1] [3 7 2 ... 7 1 1]\n",
      "accuracy: 0.8368048780487805\n",
      "iteration: 400\n",
      "[3 7 2 ... 7 1 1] [3 7 2 ... 7 1 1]\n",
      "accuracy: 0.845609756097561\n",
      "iteration: 450\n",
      "[3 7 2 ... 7 1 1] [3 7 2 ... 7 1 1]\n",
      "accuracy: 0.8521951219512195\n",
      "iteration: 500\n",
      "[3 7 2 ... 7 1 1] [3 7 2 ... 7 1 1]\n",
      "accuracy: 0.856390243902439\n",
      "iteration: 550\n",
      "[3 7 2 ... 7 1 1] [3 7 2 ... 7 1 1]\n",
      "accuracy: 0.8592195121951219\n",
      "iteration: 600\n",
      "[3 7 2 ... 7 1 1] [3 7 2 ... 7 1 1]\n",
      "accuracy: 0.8611463414634146\n",
      "iteration: 650\n",
      "[3 7 2 ... 7 1 1] [3 7 2 ... 7 1 1]\n",
      "accuracy: 0.862780487804878\n",
      "iteration: 700\n",
      "[3 7 2 ... 7 1 1] [3 7 2 ... 7 1 1]\n",
      "accuracy: 0.8638048780487805\n",
      "iteration: 750\n",
      "[3 7 2 ... 7 1 1] [3 7 2 ... 7 1 1]\n",
      "accuracy: 0.8651707317073171\n",
      "iteration: 800\n",
      "[3 7 2 ... 7 1 1] [3 7 2 ... 7 1 1]\n",
      "accuracy: 0.8666585365853658\n",
      "iteration: 850\n",
      "[3 7 2 ... 7 1 1] [3 7 2 ... 7 1 1]\n",
      "accuracy: 0.869\n",
      "iteration: 900\n",
      "[3 7 2 ... 7 1 1] [3 7 2 ... 7 1 1]\n",
      "accuracy: 0.8703414634146341\n",
      "iteration: 950\n",
      "[3 7 2 ... 7 1 1] [3 7 2 ... 7 1 1]\n",
      "accuracy: 0.8715121951219512\n"
     ]
    }
   ],
   "source": [
    "# run the model\n",
    "W1, b1, W2, b2 = gradient_descent(X_train, Y_train, 0.10, 1000)"
   ]
  },
  {
   "cell_type": "code",
   "execution_count": 11,
   "metadata": {},
   "outputs": [],
   "source": [
    "def make_predictions(X, W1, b1, W2, b2):\n",
    "    _, _, _, A2 = forward_prop(W1, b1, W2, b2, X)\n",
    "    predictions = get_predictions(A2)\n",
    "    return predictions\n",
    "\n",
    "def test_prediction(index, W1, b1, W2, b2):\n",
    "    current_image = X_train[:, index, None]\n",
    "    prediction = make_predictions(X_train[:, index, None], W1, b1, W2, b2)\n",
    "    label = Y_train[index]\n",
    "    print(\"Prediction: \", prediction)\n",
    "    print(\"Label: \", label)\n",
    "    \n",
    "    current_image = current_image.reshape((28, 28)) * 255\n",
    "    plt.gray()\n",
    "    plt.imshow(current_image, interpolation='nearest')\n",
    "    plt.show()\n",
    "    \n",
    "def print_hidden_layer_output(index, W1, b1, W2, b2):\n",
    "    _, A1, _, _ = forward_prop(W1, b1, W2, b2, X_test[:, index, None])\n",
    "    print(\"Hidden Layer Output for Test Sample\", index, \":\\n\", A1)\n"
   ]
  },
  {
   "cell_type": "code",
   "execution_count": 12,
   "metadata": {},
   "outputs": [
    {
     "name": "stdout",
     "output_type": "stream",
     "text": [
      "Prediction:  [3]\n",
      "Label:  3\n"
     ]
    },
    {
     "data": {
      "image/png": "[encoded data removed]",
      "text/plain": [
       "<Figure size 640x480 with 1 Axes>"
      ]
     },
     "metadata": {},
     "output_type": "display_data"
    },
    {
     "name": "stdout",
     "output_type": "stream",
     "text": [
      "Prediction:  [7]\n",
      "Label:  7\n"
     ]
    },
    {
     "data": {
      "image/png": "[encoded data removed]",
      "text/plain": [
       "<Figure size 640x480 with 1 Axes>"
      ]
     },
     "metadata": {},
     "output_type": "display_data"
    },
    {
     "name": "stdout",
     "output_type": "stream",
     "text": [
      "Prediction:  [2]\n",
      "Label:  2\n"
     ]
    },
    {
     "data": {
      "image/png": "[encoded data removed]",
      "text/plain": [
       "<Figure size 640x480 with 1 Axes>"
      ]
     },
     "metadata": {},
     "output_type": "display_data"
    },
    {
     "name": "stdout",
     "output_type": "stream",
     "text": [
      "Prediction:  [1]\n",
      "Label:  1\n"
     ]
    },
    {
     "data": {
      "image/png": "[encoded data removed]",
      "text/plain": [
       "<Figure size 640x480 with 1 Axes>"
      ]
     },
     "metadata": {},
     "output_type": "display_data"
    },
    {
     "name": "stdout",
     "output_type": "stream",
     "text": [
      "Hidden Layer Output for Test Sample 0 :\n",
      " [[ 8.53266793]\n",
      " [ 0.        ]\n",
      " [16.70316672]\n",
      " [ 0.        ]\n",
      " [ 0.        ]\n",
      " [ 0.        ]\n",
      " [ 0.        ]\n",
      " [14.43922918]\n",
      " [ 0.        ]\n",
      " [ 0.        ]]\n",
      "Hidden Layer Output for Test Sample 1 :\n",
      " [[2.73325253e+00]\n",
      " [7.37218338e-03]\n",
      " [1.37848704e+01]\n",
      " [3.58471100e+00]\n",
      " [0.00000000e+00]\n",
      " [0.00000000e+00]\n",
      " [4.55133353e+00]\n",
      " [0.00000000e+00]\n",
      " [0.00000000e+00]\n",
      " [0.00000000e+00]]\n"
     ]
    }
   ],
   "source": [
    "test_prediction(0, W1, b1, W2, b2)\n",
    "test_prediction(1, W1, b1, W2, b2)\n",
    "test_prediction(2, W1, b1, W2, b2)\n",
    "test_prediction(3, W1, b1, W2, b2)\n",
    "\n",
    "print_hidden_layer_output(0, W1, b1, W2, b2)\n",
    "print_hidden_layer_output(1, W1, b1, W2, b2)"
   ]
  },
  {
   "cell_type": "code",
   "execution_count": 13,
   "metadata": {},
   "outputs": [
    {
     "name": "stdout",
     "output_type": "stream",
     "text": [
      "[2 0 1 0 3 4 2 9 6 8 6 2 2 9 3 5 6 7 4 6 9 2 2 3 5 9 8 1 4 3 6 1 8 0 2 3 1\n",
      " 3 2 5 2 7 3 1 7 1 2 8 1 8 4 1 5 2 9 0 7 0 3 0 1 1 9 2 4 3 9 4 8 9 0 0 0 3\n",
      " 7 8 3 7 7 4 5 2 5 2 2 3 0 1 6 2 1 1 0 3 4 5 0 6 4 7 1 3 4 4 2 2 4 7 9 0 8\n",
      " 6 4 2 8 6 9 3 7 6 6 0 4 0 5 6 3 5 4 8 7 0 6 0 3 3 4 6 5 2 8 7 4 7 8 9 6 0\n",
      " 4 1 8 8 7 8 4 1 9 6 0 0 2 4 5 8 3 3 1 8 0 6 8 8 9 5 9 9 6 8 5 5 4 7 9 7 9\n",
      " 8 6 5 1 0 5 8 0 5 4 3 0 7 9 5 5 8 0 6 6 1 7 7 4 3 1 5 3 7 8 9 3 4 1 2 0 1\n",
      " 9 2 3 1 0 6 7 0 5 9 1 5 9 2 4 0 1 9 2 8 5 1 3 2 0 3 8 1 0 5 0 2 0 3 4 8 1\n",
      " 4 3 2 9 6 4 8 4 9 0 0 7 7 5 1 2 5 7 9 5 2 5 7 7 6 7 3 6 4 1 2 0 0 3 2 8 4\n",
      " 9 9 4 4 7 8 3 2 8 6 9 5 7 7 1 6 3 6 8 2 8 1 0 1 7 0 5 6 8 7 0 1 7 2 2 6 8\n",
      " 8 0 0 3 5 6 4 8 4 9 4 9 3 7 5 9 2 8 3 6 0 7 1 3 3 7 2 8 3 2 9 9 4 4 6 4 6\n",
      " 6 6 6 4 3 6 2 6 6 3 7 2 7 8 6 8 8 8 8 8 1 6 1 4 5 9 8 8 7 2 4 2 6 2 7 7 9\n",
      " 0 7 6 2 9 5 6 1 5 4 7 7 7 4 5 8 8 5 7 4 0 4 9 4 8 6 8 4 0 5 5 3 5 5 3 9 8\n",
      " 2 2 2 5 5 6 3 0 7 3 7 7 1 0 4 5 1 6 8 1 3 4 6 2 2 3 5 9 1 2 2 5 6 5 1 1 0\n",
      " 5 5 6 6 3 1 2 5 2 8 4 9 9 0 2 8 7 2 2 7 2 2 5 2 5 9 2 4 6 0 1 7 9 7 0 8 3\n",
      " 7 7 2 1 4 1 4 0 7 4 3 5 7 9 0 7 1 9 7 3 3 6 7 2 7 8 3 1 1 1 6 1 4 0 1 4 1\n",
      " 0 9 6 3 4 5 9 1 7 0 3 8 0 1 1 1 9 8 0 7 6 5 6 2 0 6 0 4 3 8 6 6 6 2 5 7 4\n",
      " 4 7 3 8 0 2 8 7 9 1 8 8 9 9 3 3 6 1 7 4 7 3 0 7 0 3 1 0 0 9 4 2 7 1 1 1 3\n",
      " 2 7 4 5 4 1 9 2 5 6 3 4 2 2 9 1 1 7 7 4 2 7 1 1 5 0 8 3 3 2 9 5 0 2 4 6 9\n",
      " 0 2 8 7 7 1 8 4 3 0 2 2 6 5 7 8 1 0 4 4 9 1 5 5 5 5 3 9 0 6 9 3 4 5 8 8 4\n",
      " 2 6 6 0 0 2 3 6 8 7 1 4 2 4 2 7 4 4 9 7 6 3 3 7 5 7 5 5 8 5 1 7 8 6 9 1 2\n",
      " 6 3 1 2 1 4 9 5 7 7 3 7 3 8 9 7 4 0 3 9 9 3 3 3 6 7 2 2 1 4 4 1 5 8 7 5 9\n",
      " 6 9 0 1 8 2 9 3 7 7 8 7 7 3 9 2 4 3 7 1 7 8 1 4 5 7 6 6 9 1 8 1 7 4 1 9 6\n",
      " 1 4 2 6 0 0 8 1 3 7 0 2 9 4 4 2 0 3 9 3 3 0 5 2 0 8 4 3 7 0 6 3 7 4 1 9 5\n",
      " 4 6 9 0 6 4 9 8 4 0 6 1 1 2 1 5 5 7 8 2 6 4 6 4 6 4 7 8 9 5 6 1 9 6 2 3 4\n",
      " 5 1 1 6 5 2 7 6 4 9 3 3 9 1 0 7 4 0 3 5 3 5 3 3 7 8 2 9 5 1 1 9 6 7 3 9 5\n",
      " 2 3 8 2 9 1 7 1 5 4 1 4 4 1 0 7 3 7 2 6 6 1 0 5 3 0 0 0 1 4 5 1 0 6 8 5 4\n",
      " 7 6 3 0 8 0 4 8 1 6 3 6 0 1 4 7 4 7 4 5 1 0 3 2 1 4 9 1 7 7 1 9 8 0 6 4 5\n",
      " 2] [2 0 1 0 5 4 2 9 6 2 6 2 2 9 3 5 6 7 7 6 9 2 2 5 5 9 8 1 4 3 6 1 8 0 2 3 1\n",
      " 3 2 5 2 7 3 1 7 1 2 1 1 8 4 1 8 2 9 0 7 0 3 0 1 1 9 2 4 3 9 4 8 9 0 0 0 3\n",
      " 9 8 3 7 7 9 5 6 5 4 2 3 0 1 9 2 1 1 0 3 4 5 0 6 4 7 1 3 4 4 6 2 9 7 9 0 8\n",
      " 6 4 2 8 6 9 3 7 6 6 0 4 0 5 5 3 9 9 8 7 5 6 0 3 3 4 6 5 2 8 7 4 7 8 4 6 0\n",
      " 4 8 8 8 7 8 9 1 9 6 0 0 2 4 0 7 3 5 1 8 0 6 8 8 9 9 9 9 6 8 5 3 4 7 9 7 4\n",
      " 8 6 5 1 0 5 8 0 5 4 3 0 7 9 5 5 8 0 6 6 1 7 7 4 3 1 5 3 7 8 9 3 4 1 2 0 1\n",
      " 9 0 3 1 0 6 7 0 5 9 1 5 3 2 4 0 1 9 3 8 5 1 3 2 0 3 8 1 0 5 0 2 0 9 4 8 1\n",
      " 4 3 2 9 6 2 2 4 9 0 0 7 7 0 1 2 5 7 9 5 2 5 7 7 6 7 3 6 4 1 2 0 0 3 2 3 4\n",
      " 9 9 4 4 7 8 3 2 8 6 9 5 7 7 1 6 3 6 8 2 3 1 0 1 7 0 3 6 8 7 0 1 7 2 2 6 8\n",
      " 2 0 0 3 5 6 9 5 4 9 4 9 3 7 5 9 2 8 3 6 0 7 1 8 3 7 8 8 3 2 9 9 4 4 6 4 6\n",
      " 6 6 6 4 3 6 6 6 6 3 3 7 7 8 6 8 8 8 8 8 3 4 1 4 5 8 8 8 7 2 4 8 6 2 7 7 9\n",
      " 0 7 4 2 9 3 6 5 0 4 7 7 7 4 3 4 8 5 7 4 9 4 9 4 8 6 8 9 0 5 5 3 5 5 3 9 8\n",
      " 2 0 2 5 5 6 3 0 7 3 7 7 1 8 4 5 1 6 8 1 3 4 6 2 2 3 4 9 7 2 2 5 2 5 1 1 0\n",
      " 5 5 6 6 3 1 2 5 2 8 4 9 5 0 2 8 7 2 2 7 2 2 5 2 5 9 2 4 6 0 7 7 9 7 0 8 8\n",
      " 2 7 2 7 4 1 4 0 7 4 3 5 2 9 0 7 8 9 7 3 3 6 7 2 7 2 9 1 1 1 6 1 4 0 1 4 1\n",
      " 0 9 2 3 4 5 9 1 7 0 5 8 0 1 1 1 9 8 0 7 6 5 6 8 0 6 0 4 3 8 6 6 6 2 3 7 4\n",
      " 4 7 3 8 0 2 8 7 9 1 8 8 9 9 3 3 6 1 7 4 9 3 0 7 0 3 1 0 0 4 7 2 7 1 1 1 3\n",
      " 2 7 9 5 4 1 9 2 5 5 3 4 2 2 9 1 1 7 7 4 2 9 1 8 2 0 8 2 3 2 9 5 0 6 4 6 9\n",
      " 0 2 8 7 7 1 8 4 3 0 2 2 6 5 7 4 1 0 4 4 9 1 3 5 4 5 3 9 0 6 9 3 2 3 8 7 4\n",
      " 2 6 6 0 0 6 3 6 8 7 1 4 3 4 2 2 9 4 9 7 6 3 3 7 5 0 5 0 8 5 1 7 8 6 9 1 2\n",
      " 6 3 1 2 1 4 9 5 7 7 8 7 3 2 4 7 4 0 3 3 9 3 3 3 6 7 2 2 1 4 4 1 8 8 7 5 9\n",
      " 6 7 0 1 8 2 9 3 6 7 8 7 2 3 9 2 4 3 7 1 7 8 1 4 8 7 6 6 9 1 8 1 7 4 1 9 6\n",
      " 1 4 2 6 0 0 8 4 3 9 0 2 9 4 2 2 0 3 9 3 3 2 5 2 0 8 4 3 7 0 6 3 7 4 1 9 5\n",
      " 4 6 3 0 6 9 9 8 9 6 6 1 1 8 1 5 5 7 8 2 7 4 6 4 6 4 7 8 9 9 2 1 9 6 2 3 4\n",
      " 8 1 1 6 5 2 7 6 4 9 3 3 9 1 7 7 4 0 3 5 3 5 5 3 7 9 0 9 3 1 1 9 6 7 5 9 5\n",
      " 2 3 8 2 9 1 7 1 5 4 1 4 4 1 0 7 3 7 6 6 6 1 0 5 3 0 0 0 1 4 5 1 0 9 8 5 4\n",
      " 7 6 3 0 8 0 4 8 1 6 3 6 0 1 4 7 4 7 9 7 1 5 3 2 1 4 9 1 7 2 1 9 8 0 6 4 5\n",
      " 7]\n"
     ]
    },
    {
     "data": {
      "text/plain": [
       "0.869"
      ]
     },
     "execution_count": 13,
     "metadata": {},
     "output_type": "execute_result"
    }
   ],
   "source": [
    "dev_predictions = make_predictions(X_test, W1, b1, W2, b2)\n",
    "get_accuracy(dev_predictions, Y_test)"
   ]
  }
 ],
 "metadata": {
  "kernelspec": {
   "display_name": "base",
   "language": "python",
   "name": "python3"
  },
  "language_info": {
   "codemirror_mode": {
    "name": "ipython",
    "version": 3
   },
   "file_extension": ".py",
   "mimetype": "text/x-python",
   "name": "python",
   "nbconvert_exporter": "python",
   "pygments_lexer": "ipython3",
   "version": "3.11.5"
  }
 },
 "nbformat": 4,
 "nbformat_minor": 2
}
